{
 "cells": [
  {
   "cell_type": "markdown",
   "metadata": {},
   "source": [
    "Code From: https://towardsdatascience.com/implementing-alexnet-cnn-architecture-using-tensorflow-2-0-and-keras-2113e090ad98"
   ]
  },
  {
   "cell_type": "code",
   "execution_count": 1,
   "metadata": {},
   "outputs": [],
   "source": [
    "import tensorflow as tf\n",
    "from tensorflow import keras\n",
    "import matplotlib.pyplot as plt\n",
    "import os\n",
    "import time\n",
    "import pickle\n",
    "from PIL import Image\n",
    "import numpy as np\n",
    "import glob\n",
    "import pandas as pd"
   ]
  },
  {
   "cell_type": "code",
   "execution_count": 2,
   "metadata": {},
   "outputs": [],
   "source": [
    "train_images = pickle.load(open(\"/Users/chris/Documents/GitHub/Stat440-module3/ChrisL/train_images.pickle\",\"rb\"))\n",
    "train_labels = pickle.load(open(\"/Users/chris/Documents/GitHub/Stat440-module3/ChrisL/train_labels.pickle\",\"rb\"))\n",
    "validation_images = pickle.load(open(\"/Users/chris/Documents/GitHub/Stat440-module3/ChrisL/validation_images.pickle\",\"rb\"))\n",
    "validation_labels = pickle.load(open(\"/Users/chris/Documents/GitHub/Stat440-module3/ChrisL/validation_labels.pickle\",\"rb\"))\n",
    "test_images = pickle.load(open(\"/Users/chris/Documents/GitHub/Stat440-module3/ChrisL/test_images.pickle\",\"rb\"))"
   ]
  },
  {
   "cell_type": "code",
   "execution_count": 3,
   "metadata": {},
   "outputs": [
    {
     "data": {
      "text/plain": [
       "(100, 384, 512, 3)"
      ]
     },
     "execution_count": 3,
     "metadata": {},
     "output_type": "execute_result"
    }
   ],
   "source": [
    "train_images.shape\n",
    "validation_images.shape"
   ]
  },
  {
   "cell_type": "code",
   "execution_count": 4,
   "metadata": {},
   "outputs": [],
   "source": [
    "train_labels = train_labels - 1\n",
    "validation_labels = validation_labels - 1\n",
    "test_labels = np.zeros(len(test_images),dtype = \"uint8\").reshape(-1,1)"
   ]
  },
  {
   "cell_type": "code",
   "execution_count": 5,
   "metadata": {},
   "outputs": [],
   "source": [
    "train_ds = tf.data.Dataset.from_tensor_slices((train_images, train_labels))\n",
    "test_ds = tf.data.Dataset.from_tensor_slices((test_images, test_labels))\n",
    "validation_ds = tf.data.Dataset.from_tensor_slices((validation_images, validation_labels))"
   ]
  },
  {
   "cell_type": "code",
   "execution_count": 6,
   "metadata": {},
   "outputs": [],
   "source": [
    "def process_images(image, label):\n",
    "    # Normalize images to have a mean of 0 and standard deviation of 1\n",
    "    image = tf.image.per_image_standardization(image)\n",
    "    # Resize images from 32x32 to 277x277\n",
    "    image = tf.image.resize(image, (227,227))\n",
    "    return image, label"
   ]
  },
  {
   "cell_type": "code",
   "execution_count": 7,
   "metadata": {},
   "outputs": [
    {
     "name": "stdout",
     "output_type": "stream",
     "text": [
      "Training data size: 1163\n",
      "Test data size: 1264\n",
      "Validation data size: 100\n"
     ]
    }
   ],
   "source": [
    "train_ds_size = tf.data.experimental.cardinality(train_ds).numpy()\n",
    "test_ds_size = tf.data.experimental.cardinality(test_ds).numpy()\n",
    "validation_ds_size = tf.data.experimental.cardinality(validation_ds).numpy()\n",
    "print(\"Training data size:\", train_ds_size)\n",
    "print(\"Test data size:\", test_ds_size)\n",
    "print(\"Validation data size:\", validation_ds_size)"
   ]
  },
  {
   "cell_type": "code",
   "execution_count": 8,
   "metadata": {},
   "outputs": [],
   "source": [
    "train_ds = (train_ds\n",
    "                  .map(process_images)\n",
    "                  .shuffle(buffer_size=train_ds_size)\n",
    "                  .batch(batch_size=32))\n",
    "test_ds = (test_ds\n",
    "                  .map(process_images)\n",
    "                  .batch(batch_size=32))\n",
    "validation_ds = (validation_ds\n",
    "                  .map(process_images)\n",
    "                  .shuffle(buffer_size=train_ds_size)\n",
    "                  .batch(batch_size=32))"
   ]
  },
  {
   "cell_type": "code",
   "execution_count": 9,
   "metadata": {},
   "outputs": [],
   "source": [
    "model = keras.models.Sequential([\n",
    "    keras.layers.Conv2D(filters=96, kernel_size=(11,11), strides=(4,4), activation='relu', input_shape=(227,227,3)),\n",
    "    keras.layers.BatchNormalization(),\n",
    "    keras.layers.MaxPool2D(pool_size=(3,3), strides=(2,2)),\n",
    "    keras.layers.Conv2D(filters=256, kernel_size=(5,5), strides=(1,1), activation='relu', padding=\"same\"),\n",
    "    keras.layers.BatchNormalization(),\n",
    "    keras.layers.MaxPool2D(pool_size=(3,3), strides=(2,2)),\n",
    "    keras.layers.Conv2D(filters=384, kernel_size=(3,3), strides=(1,1), activation='relu', padding=\"same\"),\n",
    "    keras.layers.BatchNormalization(),\n",
    "    keras.layers.Conv2D(filters=384, kernel_size=(1,1), strides=(1,1), activation='relu', padding=\"same\"),\n",
    "    keras.layers.BatchNormalization(),\n",
    "    keras.layers.Conv2D(filters=256, kernel_size=(1,1), strides=(1,1), activation='relu', padding=\"same\"),\n",
    "    keras.layers.BatchNormalization(),\n",
    "    keras.layers.MaxPool2D(pool_size=(3,3), strides=(2,2)),\n",
    "    keras.layers.Flatten(),\n",
    "    keras.layers.Dense(4096, activation='relu'),\n",
    "    keras.layers.Dropout(0.5),\n",
    "    keras.layers.Dense(4096, activation='relu'),\n",
    "    keras.layers.Dropout(0.5),\n",
    "    keras.layers.Dense(6, activation='softmax')\n",
    "])"
   ]
  },
  {
   "cell_type": "code",
   "execution_count": 10,
   "metadata": {},
   "outputs": [
    {
     "name": "stdout",
     "output_type": "stream",
     "text": [
      "Model: \"sequential\"\n",
      "_________________________________________________________________\n",
      "Layer (type)                 Output Shape              Param #   \n",
      "=================================================================\n",
      "conv2d (Conv2D)              (None, 55, 55, 96)        34944     \n",
      "_________________________________________________________________\n",
      "batch_normalization (BatchNo (None, 55, 55, 96)        384       \n",
      "_________________________________________________________________\n",
      "max_pooling2d (MaxPooling2D) (None, 27, 27, 96)        0         \n",
      "_________________________________________________________________\n",
      "conv2d_1 (Conv2D)            (None, 27, 27, 256)       614656    \n",
      "_________________________________________________________________\n",
      "batch_normalization_1 (Batch (None, 27, 27, 256)       1024      \n",
      "_________________________________________________________________\n",
      "max_pooling2d_1 (MaxPooling2 (None, 13, 13, 256)       0         \n",
      "_________________________________________________________________\n",
      "conv2d_2 (Conv2D)            (None, 13, 13, 384)       885120    \n",
      "_________________________________________________________________\n",
      "batch_normalization_2 (Batch (None, 13, 13, 384)       1536      \n",
      "_________________________________________________________________\n",
      "conv2d_3 (Conv2D)            (None, 13, 13, 384)       147840    \n",
      "_________________________________________________________________\n",
      "batch_normalization_3 (Batch (None, 13, 13, 384)       1536      \n",
      "_________________________________________________________________\n",
      "conv2d_4 (Conv2D)            (None, 13, 13, 256)       98560     \n",
      "_________________________________________________________________\n",
      "batch_normalization_4 (Batch (None, 13, 13, 256)       1024      \n",
      "_________________________________________________________________\n",
      "max_pooling2d_2 (MaxPooling2 (None, 6, 6, 256)         0         \n",
      "_________________________________________________________________\n",
      "flatten (Flatten)            (None, 9216)              0         \n",
      "_________________________________________________________________\n",
      "dense (Dense)                (None, 4096)              37752832  \n",
      "_________________________________________________________________\n",
      "dropout (Dropout)            (None, 4096)              0         \n",
      "_________________________________________________________________\n",
      "dense_1 (Dense)              (None, 4096)              16781312  \n",
      "_________________________________________________________________\n",
      "dropout_1 (Dropout)          (None, 4096)              0         \n",
      "_________________________________________________________________\n",
      "dense_2 (Dense)              (None, 6)                 24582     \n",
      "=================================================================\n",
      "Total params: 56,345,350\n",
      "Trainable params: 56,342,598\n",
      "Non-trainable params: 2,752\n",
      "_________________________________________________________________\n"
     ]
    }
   ],
   "source": [
    "model.compile(loss='sparse_categorical_crossentropy', optimizer=tf.optimizers.SGD(lr=0.005), metrics=['accuracy'])\n",
    "model.summary()"
   ]
  },
  {
   "cell_type": "code",
   "execution_count": 11,
   "metadata": {},
   "outputs": [],
   "source": [
    "root_logdir = os.path.join(os.curdir, \"logs\\\\fit\\\\\")\n",
    "def get_run_logdir():\n",
    "    run_id = time.strftime(\"run_%Y_%m_%d-%H_%M_%S\")\n",
    "    return os.path.join(root_logdir, run_id)\n",
    "run_logdir = get_run_logdir()\n",
    "tensorboard_cb = keras.callbacks.TensorBoard(run_logdir)\n",
    "callbacks = earlystop"
   ]
  },
  {
   "cell_type": "code",
   "execution_count": 12,
   "metadata": {},
   "outputs": [
    {
     "name": "stdout",
     "output_type": "stream",
     "text": [
      "Epoch 1/50\n",
      "37/37 [==============================] - 33s 800ms/step - loss: 5.7798 - accuracy: 0.2671 - val_loss: 3.4041 - val_accuracy: 0.2400\n",
      "Epoch 2/50\n",
      "37/37 [==============================] - 31s 781ms/step - loss: 1.9587 - accuracy: 0.4005 - val_loss: 1.9329 - val_accuracy: 0.4500\n",
      "Epoch 3/50\n",
      "37/37 [==============================] - 31s 786ms/step - loss: 1.3554 - accuracy: 0.5240 - val_loss: 1.4276 - val_accuracy: 0.4900\n",
      "Epoch 4/50\n",
      "37/37 [==============================] - 32s 823ms/step - loss: 1.2758 - accuracy: 0.5863 - val_loss: 1.7182 - val_accuracy: 0.4300\n",
      "Epoch 5/50\n",
      "37/37 [==============================] - 33s 821ms/step - loss: 1.0696 - accuracy: 0.5938 - val_loss: 1.0713 - val_accuracy: 0.5400\n",
      "Epoch 6/50\n",
      "37/37 [==============================] - 34s 843ms/step - loss: 0.9356 - accuracy: 0.6480 - val_loss: 1.1417 - val_accuracy: 0.5800\n",
      "Epoch 7/50\n",
      "37/37 [==============================] - 33s 818ms/step - loss: 0.7291 - accuracy: 0.7059 - val_loss: 0.9353 - val_accuracy: 0.6800\n",
      "Epoch 8/50\n",
      "37/37 [==============================] - 33s 830ms/step - loss: 0.6500 - accuracy: 0.7748 - val_loss: 0.9251 - val_accuracy: 0.6800\n",
      "Epoch 9/50\n",
      "37/37 [==============================] - 33s 829ms/step - loss: 0.6658 - accuracy: 0.7682 - val_loss: 0.8148 - val_accuracy: 0.6800\n",
      "Epoch 10/50\n",
      "37/37 [==============================] - 33s 820ms/step - loss: 0.4883 - accuracy: 0.8269 - val_loss: 0.7481 - val_accuracy: 0.7100\n",
      "Epoch 11/50\n",
      "37/37 [==============================] - 32s 814ms/step - loss: 0.4169 - accuracy: 0.8598 - val_loss: 0.8545 - val_accuracy: 0.6800\n",
      "Epoch 12/50\n",
      "37/37 [==============================] - 33s 835ms/step - loss: 0.3371 - accuracy: 0.8930 - val_loss: 1.0205 - val_accuracy: 0.6400\n",
      "Epoch 13/50\n",
      "37/37 [==============================] - 33s 827ms/step - loss: 0.3440 - accuracy: 0.8901 - val_loss: 0.9603 - val_accuracy: 0.6900\n",
      "Epoch 14/50\n",
      "37/37 [==============================] - 37s 938ms/step - loss: 0.2978 - accuracy: 0.9003 - val_loss: 0.8226 - val_accuracy: 0.6900\n",
      "Epoch 15/50\n",
      "37/37 [==============================] - 32s 817ms/step - loss: 0.2720 - accuracy: 0.9003 - val_loss: 0.7603 - val_accuracy: 0.6800\n",
      "Epoch 16/50\n",
      "37/37 [==============================] - 33s 834ms/step - loss: 0.2500 - accuracy: 0.9211 - val_loss: 0.8834 - val_accuracy: 0.6900\n",
      "Epoch 17/50\n",
      "37/37 [==============================] - 34s 864ms/step - loss: 0.2438 - accuracy: 0.9230 - val_loss: 0.9170 - val_accuracy: 0.6800\n",
      "Epoch 18/50\n",
      "37/37 [==============================] - 36s 904ms/step - loss: 0.2003 - accuracy: 0.9370 - val_loss: 0.8348 - val_accuracy: 0.7000\n",
      "Epoch 19/50\n",
      "37/37 [==============================] - 34s 858ms/step - loss: 0.1909 - accuracy: 0.9404 - val_loss: 0.9066 - val_accuracy: 0.6600\n",
      "Epoch 20/50\n",
      "37/37 [==============================] - 34s 865ms/step - loss: 0.1457 - accuracy: 0.9471 - val_loss: 0.7670 - val_accuracy: 0.7200\n",
      "Epoch 21/50\n",
      "37/37 [==============================] - 33s 826ms/step - loss: 0.1331 - accuracy: 0.9631 - val_loss: 0.9061 - val_accuracy: 0.6700\n",
      "Epoch 22/50\n",
      "37/37 [==============================] - 33s 830ms/step - loss: 0.1199 - accuracy: 0.9630 - val_loss: 0.9060 - val_accuracy: 0.6900\n",
      "Epoch 23/50\n",
      "37/37 [==============================] - 33s 827ms/step - loss: 0.0812 - accuracy: 0.9791 - val_loss: 0.9869 - val_accuracy: 0.6900\n",
      "Epoch 24/50\n",
      "37/37 [==============================] - 33s 824ms/step - loss: 0.0978 - accuracy: 0.9711 - val_loss: 0.9241 - val_accuracy: 0.7300\n",
      "Epoch 25/50\n",
      "37/37 [==============================] - 33s 836ms/step - loss: 0.0786 - accuracy: 0.9796 - val_loss: 0.8866 - val_accuracy: 0.7200\n",
      "Epoch 26/50\n",
      "37/37 [==============================] - 34s 867ms/step - loss: 0.0920 - accuracy: 0.9723 - val_loss: 1.0054 - val_accuracy: 0.6800\n",
      "Epoch 27/50\n",
      "37/37 [==============================] - 35s 881ms/step - loss: 0.0578 - accuracy: 0.9894 - val_loss: 1.0501 - val_accuracy: 0.7400\n",
      "Epoch 28/50\n",
      "37/37 [==============================] - 34s 866ms/step - loss: 0.0907 - accuracy: 0.9730 - val_loss: 0.9586 - val_accuracy: 0.6900\n",
      "Epoch 29/50\n",
      "37/37 [==============================] - 35s 873ms/step - loss: 0.0677 - accuracy: 0.9805 - val_loss: 0.9032 - val_accuracy: 0.7300\n",
      "Epoch 30/50\n",
      "37/37 [==============================] - 33s 834ms/step - loss: 0.0572 - accuracy: 0.9849 - val_loss: 0.9250 - val_accuracy: 0.7300\n",
      "Epoch 31/50\n",
      "37/37 [==============================] - 33s 831ms/step - loss: 0.0615 - accuracy: 0.9875 - val_loss: 0.9210 - val_accuracy: 0.7200\n",
      "Epoch 32/50\n",
      "37/37 [==============================] - 33s 827ms/step - loss: 0.0476 - accuracy: 0.9867 - val_loss: 1.0011 - val_accuracy: 0.7200\n",
      "Epoch 33/50\n",
      "37/37 [==============================] - 34s 848ms/step - loss: 0.0373 - accuracy: 0.9944 - val_loss: 0.9456 - val_accuracy: 0.7300\n",
      "Epoch 34/50\n",
      "37/37 [==============================] - 37s 917ms/step - loss: 0.0393 - accuracy: 0.9937 - val_loss: 0.9883 - val_accuracy: 0.6900\n",
      "Epoch 35/50\n",
      "37/37 [==============================] - 35s 868ms/step - loss: 0.0381 - accuracy: 0.9944 - val_loss: 1.0525 - val_accuracy: 0.7100\n",
      "Epoch 36/50\n",
      "37/37 [==============================] - 35s 880ms/step - loss: 0.0360 - accuracy: 0.9893 - val_loss: 0.9542 - val_accuracy: 0.7200\n",
      "Epoch 37/50\n",
      "37/37 [==============================] - 34s 858ms/step - loss: 0.0318 - accuracy: 0.9939 - val_loss: 0.9446 - val_accuracy: 0.7500\n",
      "Epoch 38/50\n",
      "37/37 [==============================] - 34s 869ms/step - loss: 0.0221 - accuracy: 0.9983 - val_loss: 0.9881 - val_accuracy: 0.7400\n",
      "Epoch 39/50\n",
      "37/37 [==============================] - 35s 870ms/step - loss: 0.0372 - accuracy: 0.9848 - val_loss: 0.9497 - val_accuracy: 0.7500\n",
      "Epoch 40/50\n",
      "37/37 [==============================] - 34s 859ms/step - loss: 0.0318 - accuracy: 0.9904 - val_loss: 0.8881 - val_accuracy: 0.7500\n",
      "Epoch 41/50\n",
      "37/37 [==============================] - 34s 855ms/step - loss: 0.0236 - accuracy: 0.9962 - val_loss: 0.8296 - val_accuracy: 0.7300\n",
      "Epoch 42/50\n",
      "37/37 [==============================] - 34s 860ms/step - loss: 0.0282 - accuracy: 0.9982 - val_loss: 0.9394 - val_accuracy: 0.7400\n",
      "Epoch 43/50\n",
      "37/37 [==============================] - 34s 863ms/step - loss: 0.0241 - accuracy: 0.9962 - val_loss: 0.9625 - val_accuracy: 0.7100\n",
      "Epoch 44/50\n",
      "37/37 [==============================] - 35s 880ms/step - loss: 0.0247 - accuracy: 0.9923 - val_loss: 0.9521 - val_accuracy: 0.7500\n",
      "Epoch 45/50\n",
      "37/37 [==============================] - 46s 1s/step - loss: 0.0182 - accuracy: 0.9978 - val_loss: 0.8828 - val_accuracy: 0.7400\n",
      "Epoch 46/50\n",
      "37/37 [==============================] - 35s 874ms/step - loss: 0.0201 - accuracy: 0.9985 - val_loss: 0.9389 - val_accuracy: 0.7500\n",
      "Epoch 47/50\n",
      "37/37 [==============================] - 35s 892ms/step - loss: 0.0225 - accuracy: 0.9970 - val_loss: 0.9263 - val_accuracy: 0.7600\n",
      "Epoch 48/50\n",
      "37/37 [==============================] - 36s 911ms/step - loss: 0.0196 - accuracy: 0.9953 - val_loss: 1.0769 - val_accuracy: 0.7500\n",
      "Epoch 49/50\n",
      "37/37 [==============================] - 36s 921ms/step - loss: 0.0233 - accuracy: 0.9959 - val_loss: 0.9842 - val_accuracy: 0.7600\n",
      "Epoch 50/50\n",
      "37/37 [==============================] - 39s 992ms/step - loss: 0.0118 - accuracy: 0.9997 - val_loss: 0.9598 - val_accuracy: 0.7100\n"
     ]
    },
    {
     "data": {
      "text/plain": [
       "<tensorflow.python.keras.callbacks.History at 0x7fba61864668>"
      ]
     },
     "execution_count": 12,
     "metadata": {},
     "output_type": "execute_result"
    }
   ],
   "source": [
    "model.fit(train_ds,\n",
    "          epochs=50,\n",
    "          validation_data=validation_ds,\n",
    "          validation_freq=1,\n",
    "          callbacks=[tensorboard_cb])"
   ]
  },
  {
   "cell_type": "code",
   "execution_count": 13,
   "metadata": {},
   "outputs": [],
   "source": [
    "prediction = model.predict(test_ds)"
   ]
  },
  {
   "cell_type": "code",
   "execution_count": 14,
   "metadata": {},
   "outputs": [],
   "source": [
    "yPred = np.argmax(prediction, axis=-1)"
   ]
  },
  {
   "cell_type": "code",
   "execution_count": 15,
   "metadata": {},
   "outputs": [
    {
     "name": "stdout",
     "output_type": "stream",
     "text": [
      "4/4 [==============================] - 1s 204ms/step - loss: 0.9598 - accuracy: 0.7100\n"
     ]
    },
    {
     "data": {
      "text/plain": [
       "[0.9597627520561218, 0.7099999785423279]"
      ]
     },
     "execution_count": 15,
     "metadata": {},
     "output_type": "execute_result"
    }
   ],
   "source": [
    "model.evaluate(validation_ds)"
   ]
  },
  {
   "cell_type": "code",
   "execution_count": 16,
   "metadata": {},
   "outputs": [],
   "source": [
    "pred_df = pd.read_csv(\"/Users/chris/Documents/GitHub/Stat440-module3/ChrisL/example.csv\")"
   ]
  },
  {
   "cell_type": "code",
   "execution_count": 17,
   "metadata": {},
   "outputs": [],
   "source": [
    "pred_df['Prediction'] = yPred\n",
    "pred_df['Prediction'] = pred_df['Prediction'] + 1"
   ]
  },
  {
   "cell_type": "code",
   "execution_count": 18,
   "metadata": {},
   "outputs": [],
   "source": [
    "pred_df.to_csv(\"/Users/chris/Documents/GitHub/Stat440-module3/ChrisL/prediction.csv\",index=False)"
   ]
  },
  {
   "cell_type": "code",
   "execution_count": null,
   "metadata": {},
   "outputs": [],
   "source": []
  }
 ],
 "metadata": {
  "kernelspec": {
   "display_name": "Python 3",
   "language": "python",
   "name": "python3"
  },
  "language_info": {
   "codemirror_mode": {
    "name": "ipython",
    "version": 3
   },
   "file_extension": ".py",
   "mimetype": "text/x-python",
   "name": "python",
   "nbconvert_exporter": "python",
   "pygments_lexer": "ipython3",
   "version": "3.7.3"
  }
 },
 "nbformat": 4,
 "nbformat_minor": 2
}
