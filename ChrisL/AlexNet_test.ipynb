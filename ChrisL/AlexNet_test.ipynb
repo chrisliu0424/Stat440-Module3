{
 "cells": [
  {
   "cell_type": "code",
   "execution_count": 33,
   "metadata": {},
   "outputs": [],
   "source": [
    "import tensorflow as tf\n",
    "from tensorflow import keras\n",
    "import matplotlib.pyplot as plt\n",
    "import os\n",
    "import time\n",
    "import pickle\n",
    "from PIL import Image\n",
    "import numpy as np\n",
    "import glob\n",
    "import pandas as pd"
   ]
  },
  {
   "cell_type": "code",
   "execution_count": 56,
   "metadata": {},
   "outputs": [],
   "source": [
    "train_images = pickle.load(open(\"/Users/chris/Documents/GitHub/Stat440-module3/ChrisL/train_images.pickle\",\"rb\"))\n",
    "train_labels = pickle.load(open(\"/Users/chris/Documents/GitHub/Stat440-module3/ChrisL/train_labels.pickle\",\"rb\"))\n",
    "validation_images = pickle.load(open(\"/Users/chris/Documents/GitHub/Stat440-module3/ChrisL/validation_images.pickle\",\"rb\"))\n",
    "validation_labels = pickle.load(open(\"/Users/chris/Documents/GitHub/Stat440-module3/ChrisL/validation_labels.pickle\",\"rb\"))\n",
    "test_images = pickle.load(open(\"/Users/chris/Documents/GitHub/Stat440-module3/ChrisL/test_images.pickle\",\"rb\"))"
   ]
  },
  {
   "cell_type": "code",
   "execution_count": 57,
   "metadata": {},
   "outputs": [],
   "source": [
    "train_labels = train_labels - 1\n",
    "validation_images, validation_labels = train_images[:100], train_labels[:100]\n",
    "train_images, train_labels = train_images[100:], train_labels[100:]\n",
    "test_labels = np.zeros(len(test_images),dtype = \"uint8\").reshape(-1,1)"
   ]
  },
  {
   "cell_type": "code",
   "execution_count": 58,
   "metadata": {},
   "outputs": [],
   "source": [
    "train_ds = tf.data.Dataset.from_tensor_slices((train_images, train_labels))\n",
    "test_ds = tf.data.Dataset.from_tensor_slices((test_images, test_labels))\n",
    "validation_ds = tf.data.Dataset.from_tensor_slices((validation_images, validation_labels))"
   ]
  },
  {
   "cell_type": "code",
   "execution_count": 59,
   "metadata": {},
   "outputs": [],
   "source": [
    "def process_images(image, label):\n",
    "    # Normalize images to have a mean of 0 and standard deviation of 1\n",
    "    image = tf.image.per_image_standardization(image)\n",
    "    # Resize images from 32x32 to 277x277\n",
    "    image = tf.image.resize(image, (227,227))\n",
    "    return image, label"
   ]
  },
  {
   "cell_type": "code",
   "execution_count": 60,
   "metadata": {},
   "outputs": [
    {
     "name": "stdout",
     "output_type": "stream",
     "text": [
      "Training data size: 1063\n",
      "Validation data size: 100\n"
     ]
    }
   ],
   "source": [
    "train_ds_size = tf.data.experimental.cardinality(train_ds).numpy()\n",
    "test_ds_size = tf.data.experimental.cardinality(test_ds).numpy()\n",
    "validation_ds_size = tf.data.experimental.cardinality(validation_ds).numpy()\n",
    "print(\"Training data size:\", train_ds_size)\n",
    "# print(\"Test data size:\", test_ds_size)\n",
    "print(\"Validation data size:\", validation_ds_size)"
   ]
  },
  {
   "cell_type": "code",
   "execution_count": 61,
   "metadata": {},
   "outputs": [],
   "source": [
    "train_ds = (train_ds\n",
    "                  .map(process_images)\n",
    "                  .shuffle(buffer_size=train_ds_size)\n",
    "                  .batch(batch_size=32, drop_remainder=True))\n",
    "test_ds = (test_ds\n",
    "                  .map(process_images)\n",
    "                  .shuffle(buffer_size=train_ds_size)\n",
    "                  .batch(batch_size=1, drop_remainder=True))\n",
    "validation_ds = (validation_ds\n",
    "                  .map(process_images)\n",
    "                  .shuffle(buffer_size=train_ds_size)\n",
    "                  .batch(batch_size=32, drop_remainder=True))"
   ]
  },
  {
   "cell_type": "code",
   "execution_count": 8,
   "metadata": {},
   "outputs": [],
   "source": [
    "model = keras.models.Sequential([\n",
    "    keras.layers.Conv2D(filters=96, kernel_size=(11,11), strides=(4,4), activation='relu', input_shape=(227,227,3)),\n",
    "    keras.layers.BatchNormalization(),\n",
    "    keras.layers.MaxPool2D(pool_size=(3,3), strides=(2,2)),\n",
    "    keras.layers.Conv2D(filters=256, kernel_size=(5,5), strides=(1,1), activation='relu', padding=\"same\"),\n",
    "    keras.layers.BatchNormalization(),\n",
    "    keras.layers.MaxPool2D(pool_size=(3,3), strides=(2,2)),\n",
    "    keras.layers.Conv2D(filters=384, kernel_size=(3,3), strides=(1,1), activation='relu', padding=\"same\"),\n",
    "    keras.layers.BatchNormalization(),\n",
    "    keras.layers.Conv2D(filters=384, kernel_size=(1,1), strides=(1,1), activation='relu', padding=\"same\"),\n",
    "    keras.layers.BatchNormalization(),\n",
    "    keras.layers.Conv2D(filters=256, kernel_size=(1,1), strides=(1,1), activation='relu', padding=\"same\"),\n",
    "    keras.layers.BatchNormalization(),\n",
    "    keras.layers.MaxPool2D(pool_size=(3,3), strides=(2,2)),\n",
    "    keras.layers.Flatten(),\n",
    "    keras.layers.Dense(4096, activation='relu'),\n",
    "    keras.layers.Dropout(0.5),\n",
    "    keras.layers.Dense(4096, activation='relu'),\n",
    "    keras.layers.Dropout(0.5),\n",
    "    keras.layers.Dense(6, activation='softmax')\n",
    "])"
   ]
  },
  {
   "cell_type": "code",
   "execution_count": 9,
   "metadata": {},
   "outputs": [
    {
     "name": "stdout",
     "output_type": "stream",
     "text": [
      "Model: \"sequential\"\n",
      "_________________________________________________________________\n",
      "Layer (type)                 Output Shape              Param #   \n",
      "=================================================================\n",
      "conv2d (Conv2D)              (None, 55, 55, 96)        34944     \n",
      "_________________________________________________________________\n",
      "batch_normalization (BatchNo (None, 55, 55, 96)        384       \n",
      "_________________________________________________________________\n",
      "max_pooling2d (MaxPooling2D) (None, 27, 27, 96)        0         \n",
      "_________________________________________________________________\n",
      "conv2d_1 (Conv2D)            (None, 27, 27, 256)       614656    \n",
      "_________________________________________________________________\n",
      "batch_normalization_1 (Batch (None, 27, 27, 256)       1024      \n",
      "_________________________________________________________________\n",
      "max_pooling2d_1 (MaxPooling2 (None, 13, 13, 256)       0         \n",
      "_________________________________________________________________\n",
      "conv2d_2 (Conv2D)            (None, 13, 13, 384)       885120    \n",
      "_________________________________________________________________\n",
      "batch_normalization_2 (Batch (None, 13, 13, 384)       1536      \n",
      "_________________________________________________________________\n",
      "conv2d_3 (Conv2D)            (None, 13, 13, 384)       147840    \n",
      "_________________________________________________________________\n",
      "batch_normalization_3 (Batch (None, 13, 13, 384)       1536      \n",
      "_________________________________________________________________\n",
      "conv2d_4 (Conv2D)            (None, 13, 13, 256)       98560     \n",
      "_________________________________________________________________\n",
      "batch_normalization_4 (Batch (None, 13, 13, 256)       1024      \n",
      "_________________________________________________________________\n",
      "max_pooling2d_2 (MaxPooling2 (None, 6, 6, 256)         0         \n",
      "_________________________________________________________________\n",
      "flatten (Flatten)            (None, 9216)              0         \n",
      "_________________________________________________________________\n",
      "dense (Dense)                (None, 4096)              37752832  \n",
      "_________________________________________________________________\n",
      "dropout (Dropout)            (None, 4096)              0         \n",
      "_________________________________________________________________\n",
      "dense_1 (Dense)              (None, 4096)              16781312  \n",
      "_________________________________________________________________\n",
      "dropout_1 (Dropout)          (None, 4096)              0         \n",
      "_________________________________________________________________\n",
      "dense_2 (Dense)              (None, 6)                 24582     \n",
      "=================================================================\n",
      "Total params: 56,345,350\n",
      "Trainable params: 56,342,598\n",
      "Non-trainable params: 2,752\n",
      "_________________________________________________________________\n"
     ]
    }
   ],
   "source": [
    "model.compile(loss='sparse_categorical_crossentropy', optimizer=tf.optimizers.SGD(lr=0.001), metrics=['accuracy'])\n",
    "model.summary()"
   ]
  },
  {
   "cell_type": "code",
   "execution_count": 10,
   "metadata": {},
   "outputs": [],
   "source": [
    "root_logdir = os.path.join(os.curdir, \"logs\\\\fit\\\\\")\n",
    "def get_run_logdir():\n",
    "    run_id = time.strftime(\"run_%Y_%m_%d-%H_%M_%S\")\n",
    "    return os.path.join(root_logdir, run_id)\n",
    "run_logdir = get_run_logdir()\n",
    "tensorboard_cb = keras.callbacks.TensorBoard(run_logdir)"
   ]
  },
  {
   "cell_type": "code",
   "execution_count": 11,
   "metadata": {},
   "outputs": [
    {
     "name": "stdout",
     "output_type": "stream",
     "text": [
      "Epoch 1/50\n",
      "33/33 [==============================] - 30s 829ms/step - loss: 3.5743 - accuracy: 0.2352 - val_loss: 2.4098 - val_accuracy: 0.2292\n",
      "Epoch 2/50\n",
      "33/33 [==============================] - 29s 824ms/step - loss: 2.5947 - accuracy: 0.3298 - val_loss: 2.1023 - val_accuracy: 0.2083\n",
      "Epoch 3/50\n",
      "33/33 [==============================] - 27s 773ms/step - loss: 2.2512 - accuracy: 0.3663 - val_loss: 1.5795 - val_accuracy: 0.3125\n",
      "Epoch 4/50\n",
      "33/33 [==============================] - 28s 804ms/step - loss: 1.8686 - accuracy: 0.4191 - val_loss: 1.5417 - val_accuracy: 0.3750\n",
      "Epoch 5/50\n",
      "33/33 [==============================] - 29s 819ms/step - loss: 1.5984 - accuracy: 0.5051 - val_loss: 1.2378 - val_accuracy: 0.5208\n",
      "Epoch 6/50\n",
      "33/33 [==============================] - 29s 811ms/step - loss: 1.4763 - accuracy: 0.5120 - val_loss: 1.2636 - val_accuracy: 0.5000\n",
      "Epoch 7/50\n",
      "33/33 [==============================] - 29s 818ms/step - loss: 1.4787 - accuracy: 0.5268 - val_loss: 1.1262 - val_accuracy: 0.6042\n",
      "Epoch 8/50\n",
      "33/33 [==============================] - 29s 811ms/step - loss: 1.2940 - accuracy: 0.5728 - val_loss: 1.1506 - val_accuracy: 0.5729\n",
      "Epoch 9/50\n",
      "33/33 [==============================] - 29s 805ms/step - loss: 1.0744 - accuracy: 0.6224 - val_loss: 1.1385 - val_accuracy: 0.5625\n",
      "Epoch 10/50\n",
      "33/33 [==============================] - 29s 806ms/step - loss: 1.0307 - accuracy: 0.6420 - val_loss: 1.0776 - val_accuracy: 0.5729\n",
      "Epoch 11/50\n",
      "33/33 [==============================] - 29s 807ms/step - loss: 1.0232 - accuracy: 0.6549 - val_loss: 1.0591 - val_accuracy: 0.6250\n",
      "Epoch 12/50\n",
      "33/33 [==============================] - 29s 805ms/step - loss: 0.9346 - accuracy: 0.6653 - val_loss: 1.0735 - val_accuracy: 0.5625\n",
      "Epoch 13/50\n",
      "33/33 [==============================] - 29s 821ms/step - loss: 0.9988 - accuracy: 0.6573 - val_loss: 1.0602 - val_accuracy: 0.5729\n",
      "Epoch 14/50\n",
      "33/33 [==============================] - 29s 807ms/step - loss: 0.7697 - accuracy: 0.7176 - val_loss: 1.0679 - val_accuracy: 0.5521\n",
      "Epoch 15/50\n",
      "33/33 [==============================] - 29s 810ms/step - loss: 0.7707 - accuracy: 0.7290 - val_loss: 1.0837 - val_accuracy: 0.5625\n",
      "Epoch 16/50\n",
      "33/33 [==============================] - 29s 814ms/step - loss: 0.7000 - accuracy: 0.7336 - val_loss: 1.0534 - val_accuracy: 0.6146\n",
      "Epoch 17/50\n",
      "33/33 [==============================] - 29s 813ms/step - loss: 0.5793 - accuracy: 0.7932 - val_loss: 1.0263 - val_accuracy: 0.6042\n",
      "Epoch 18/50\n",
      "33/33 [==============================] - 30s 842ms/step - loss: 0.6732 - accuracy: 0.7555 - val_loss: 1.0253 - val_accuracy: 0.5833\n",
      "Epoch 19/50\n",
      "33/33 [==============================] - 29s 818ms/step - loss: 0.5553 - accuracy: 0.7967 - val_loss: 1.0386 - val_accuracy: 0.5938\n",
      "Epoch 20/50\n",
      "33/33 [==============================] - 28s 803ms/step - loss: 0.4889 - accuracy: 0.8270 - val_loss: 1.0714 - val_accuracy: 0.6458\n",
      "Epoch 21/50\n",
      "33/33 [==============================] - 29s 807ms/step - loss: 0.5106 - accuracy: 0.8127 - val_loss: 1.0426 - val_accuracy: 0.6250\n",
      "Epoch 22/50\n",
      "33/33 [==============================] - 29s 809ms/step - loss: 0.4618 - accuracy: 0.8288 - val_loss: 0.9957 - val_accuracy: 0.6458\n",
      "Epoch 23/50\n",
      "33/33 [==============================] - 29s 808ms/step - loss: 0.4538 - accuracy: 0.8369 - val_loss: 0.9613 - val_accuracy: 0.6979\n",
      "Epoch 24/50\n",
      "33/33 [==============================] - 29s 830ms/step - loss: 0.3970 - accuracy: 0.8695 - val_loss: 1.0647 - val_accuracy: 0.6146\n",
      "Epoch 25/50\n",
      "33/33 [==============================] - 36s 1s/step - loss: 0.3317 - accuracy: 0.8971 - val_loss: 1.1018 - val_accuracy: 0.5938\n",
      "Epoch 26/50\n",
      "33/33 [==============================] - 49s 1s/step - loss: 0.3368 - accuracy: 0.8821 - val_loss: 0.9996 - val_accuracy: 0.6458\n",
      "Epoch 27/50\n",
      "33/33 [==============================] - 93s 3s/step - loss: 0.3212 - accuracy: 0.8838 - val_loss: 1.0396 - val_accuracy: 0.6667\n",
      "Epoch 28/50\n",
      "33/33 [==============================] - 155s 4s/step - loss: 0.3257 - accuracy: 0.8963 - val_loss: 1.0635 - val_accuracy: 0.6562\n",
      "Epoch 29/50\n",
      "33/33 [==============================] - 214s 6s/step - loss: 0.2824 - accuracy: 0.9131 - val_loss: 0.9994 - val_accuracy: 0.6771\n",
      "Epoch 30/50\n",
      "33/33 [==============================] - 81s 2s/step - loss: 0.2730 - accuracy: 0.9069 - val_loss: 0.9502 - val_accuracy: 0.6667\n",
      "Epoch 31/50\n",
      "33/33 [==============================] - 43s 1s/step - loss: 0.2594 - accuracy: 0.9204 - val_loss: 0.9667 - val_accuracy: 0.6562\n",
      "Epoch 32/50\n",
      "33/33 [==============================] - 35s 973ms/step - loss: 0.2491 - accuracy: 0.9066 - val_loss: 1.0157 - val_accuracy: 0.6562\n",
      "Epoch 33/50\n",
      "33/33 [==============================] - 39s 1s/step - loss: 0.2406 - accuracy: 0.9199 - val_loss: 0.9859 - val_accuracy: 0.6562\n",
      "Epoch 34/50\n",
      "33/33 [==============================] - 42s 1s/step - loss: 0.2146 - accuracy: 0.9348 - val_loss: 1.0151 - val_accuracy: 0.6250\n",
      "Epoch 35/50\n",
      "33/33 [==============================] - 40s 1s/step - loss: 0.2115 - accuracy: 0.9335 - val_loss: 0.9305 - val_accuracy: 0.6875\n",
      "Epoch 36/50\n",
      "33/33 [==============================] - 36s 1s/step - loss: 0.2052 - accuracy: 0.9329 - val_loss: 0.9597 - val_accuracy: 0.6875\n",
      "Epoch 37/50\n",
      "33/33 [==============================] - 40s 1s/step - loss: 0.2006 - accuracy: 0.9378 - val_loss: 0.9369 - val_accuracy: 0.6875\n",
      "Epoch 38/50\n",
      "33/33 [==============================] - 41s 1s/step - loss: 0.2130 - accuracy: 0.9335 - val_loss: 0.9248 - val_accuracy: 0.6562\n",
      "Epoch 39/50\n",
      "33/33 [==============================] - 40s 1s/step - loss: 0.1704 - accuracy: 0.9533 - val_loss: 0.9624 - val_accuracy: 0.6875\n",
      "Epoch 40/50\n",
      "33/33 [==============================] - 42s 1s/step - loss: 0.2031 - accuracy: 0.9436 - val_loss: 0.9131 - val_accuracy: 0.6875\n",
      "Epoch 41/50\n",
      "33/33 [==============================] - 43s 1s/step - loss: 0.1625 - accuracy: 0.9473 - val_loss: 0.9984 - val_accuracy: 0.6875\n",
      "Epoch 42/50\n",
      "33/33 [==============================] - 37s 1s/step - loss: 0.1583 - accuracy: 0.9531 - val_loss: 0.9546 - val_accuracy: 0.6667\n",
      "Epoch 43/50\n",
      "33/33 [==============================] - 38s 1s/step - loss: 0.1528 - accuracy: 0.9617 - val_loss: 0.9768 - val_accuracy: 0.6458\n",
      "Epoch 44/50\n",
      "33/33 [==============================] - 35s 995ms/step - loss: 0.1263 - accuracy: 0.9624 - val_loss: 1.0257 - val_accuracy: 0.6875\n",
      "Epoch 45/50\n",
      "33/33 [==============================] - 38s 1s/step - loss: 0.1393 - accuracy: 0.9587 - val_loss: 1.0207 - val_accuracy: 0.6979\n",
      "Epoch 46/50\n",
      "33/33 [==============================] - 36s 1s/step - loss: 0.1147 - accuracy: 0.9792 - val_loss: 1.0581 - val_accuracy: 0.6667\n",
      "Epoch 47/50\n",
      "33/33 [==============================] - 35s 996ms/step - loss: 0.1099 - accuracy: 0.9779 - val_loss: 0.9992 - val_accuracy: 0.6667\n",
      "Epoch 48/50\n",
      "33/33 [==============================] - 35s 987ms/step - loss: 0.1003 - accuracy: 0.9825 - val_loss: 0.9489 - val_accuracy: 0.6979\n",
      "Epoch 49/50\n",
      "33/33 [==============================] - 34s 950ms/step - loss: 0.1243 - accuracy: 0.9708 - val_loss: 0.9273 - val_accuracy: 0.6771\n",
      "Epoch 50/50\n",
      "33/33 [==============================] - 35s 977ms/step - loss: 0.1178 - accuracy: 0.9701 - val_loss: 0.9302 - val_accuracy: 0.7083\n"
     ]
    },
    {
     "data": {
      "text/plain": [
       "<tensorflow.python.keras.callbacks.History at 0x7fd85fbdc0f0>"
      ]
     },
     "execution_count": 11,
     "metadata": {},
     "output_type": "execute_result"
    }
   ],
   "source": [
    "model.fit(train_ds,\n",
    "          epochs=50,\n",
    "          validation_data=validation_ds,\n",
    "          validation_freq=1,\n",
    "          callbacks=[tensorboard_cb])"
   ]
  },
  {
   "cell_type": "code",
   "execution_count": 62,
   "metadata": {},
   "outputs": [],
   "source": [
    "temp = model.predict(test_ds)"
   ]
  },
  {
   "cell_type": "code",
   "execution_count": 69,
   "metadata": {},
   "outputs": [],
   "source": [
    "prediction = []\n",
    "for i in range(0,len(temp)):\n",
    "    prediction.append(np.argmax(temp[i]))"
   ]
  },
  {
   "cell_type": "code",
   "execution_count": 76,
   "metadata": {},
   "outputs": [],
   "source": [
    "pred_df = pd.read_csv(\"/Users/chris/Documents/GitHub/Stat440-module3/ChrisL/example.csv\")"
   ]
  },
  {
   "cell_type": "code",
   "execution_count": 77,
   "metadata": {},
   "outputs": [],
   "source": [
    "pred_df['Prediction'] = prediction"
   ]
  },
  {
   "cell_type": "code",
   "execution_count": 82,
   "metadata": {},
   "outputs": [],
   "source": [
    "pred_df.to_csv(\"/Users/chris/Documents/GitHub/Stat440-module3/ChrisL/prediction.csv\",index=False)"
   ]
  },
  {
   "cell_type": "code",
   "execution_count": null,
   "metadata": {},
   "outputs": [],
   "source": []
  }
 ],
 "metadata": {
  "kernelspec": {
   "display_name": "Python 3",
   "language": "python",
   "name": "python3"
  },
  "language_info": {
   "codemirror_mode": {
    "name": "ipython",
    "version": 3
   },
   "file_extension": ".py",
   "mimetype": "text/x-python",
   "name": "python",
   "nbconvert_exporter": "python",
   "pygments_lexer": "ipython3",
   "version": "3.7.3"
  }
 },
 "nbformat": 4,
 "nbformat_minor": 2
}
