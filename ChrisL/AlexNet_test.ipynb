{
 "cells": [
  {
   "cell_type": "markdown",
   "metadata": {},
   "source": [
    "Code From: https://towardsdatascience.com/implementing-alexnet-cnn-architecture-using-tensorflow-2-0-and-keras-2113e090ad98"
   ]
  },
  {
   "cell_type": "code",
   "execution_count": 1,
   "metadata": {},
   "outputs": [
    {
     "name": "stderr",
     "output_type": "stream",
     "text": [
      "/Users/chris/anaconda3/lib/python3.7/site-packages/tensorflow_addons/utils/ensure_tf_install.py:44: UserWarning: You are currently using a nightly version of TensorFlow (2.5.0-dev20201126). \n",
      "TensorFlow Addons offers no support for the nightly versions of TensorFlow. Some things might work, some other might not. \n",
      "If you encounter a bug, do not file an issue on GitHub.\n",
      "  UserWarning,\n"
     ]
    }
   ],
   "source": [
    "import tensorflow as tf\n",
    "from tensorflow import keras\n",
    "import matplotlib.pyplot as plt\n",
    "import os\n",
    "import time\n",
    "import pickle\n",
    "from PIL import Image\n",
    "import numpy as np\n",
    "import glob\n",
    "import pandas as pd\n",
    "from tensorflow.keras.preprocessing.image import ImageDataGenerator\n",
    "import tensorflow_addons as tfa\n",
    "import math"
   ]
  },
  {
   "cell_type": "code",
   "execution_count": 2,
   "metadata": {},
   "outputs": [],
   "source": [
    "train_images = pickle.load(open(\"/Users/chris/Documents/GitHub/Stat440-module3/ChrisL/train_images.pickle\",\"rb\"))\n",
    "train_labels = pickle.load(open(\"/Users/chris/Documents/GitHub/Stat440-module3/ChrisL/train_labels.pickle\",\"rb\"))\n",
    "validation_images = pickle.load(open(\"/Users/chris/Documents/GitHub/Stat440-module3/ChrisL/validation_images.pickle\",\"rb\"))\n",
    "validation_labels = pickle.load(open(\"/Users/chris/Documents/GitHub/Stat440-module3/ChrisL/validation_labels.pickle\",\"rb\"))\n",
    "test_images = pickle.load(open(\"/Users/chris/Documents/GitHub/Stat440-module3/ChrisL/test_images.pickle\",\"rb\"))"
   ]
  },
  {
   "cell_type": "code",
   "execution_count": 3,
   "metadata": {},
   "outputs": [],
   "source": [
    "train_labels = train_labels - 1\n",
    "validation_labels = validation_labels - 1\n",
    "test_labels = np.zeros(len(test_images),dtype = \"uint8\").reshape(-1,1)"
   ]
  },
  {
   "cell_type": "code",
   "execution_count": 4,
   "metadata": {},
   "outputs": [],
   "source": [
    "train_rotated = tfa.image.rotate(train_images, 18 * math.pi / 180, interpolation='BILINEAR')"
   ]
  },
  {
   "cell_type": "code",
   "execution_count": 21,
   "metadata": {},
   "outputs": [],
   "source": [
    "train_mean = tfa.image.mean_filter2d(train_images, filter_shape=11)"
   ]
  },
  {
   "cell_type": "code",
   "execution_count": 22,
   "metadata": {},
   "outputs": [
    {
     "data": {
      "text/plain": [
       "TensorShape([1163, 384, 512, 3])"
      ]
     },
     "execution_count": 22,
     "metadata": {},
     "output_type": "execute_result"
    }
   ],
   "source": [
    "train_mean.shape"
   ]
  },
  {
   "cell_type": "code",
   "execution_count": 23,
   "metadata": {},
   "outputs": [],
   "source": [
    "train_images_all = np.vstack((train_images,train_mean))\n",
    "train_labels_all = np.vstack((train_labels,train_labels))"
   ]
  },
  {
   "cell_type": "code",
   "execution_count": 24,
   "metadata": {},
   "outputs": [],
   "source": [
    "train_ds = tf.data.Dataset.from_tensor_slices((train_images, train_labels))\n",
    "train_all_ds = tf.data.Dataset.from_tensor_slices((train_images_all, train_labels_all))\n",
    "test_ds = tf.data.Dataset.from_tensor_slices((test_images, test_labels))\n",
    "validation_ds = tf.data.Dataset.from_tensor_slices((validation_images, validation_labels))"
   ]
  },
  {
   "cell_type": "code",
   "execution_count": 25,
   "metadata": {},
   "outputs": [],
   "source": [
    "def process_images(image, label):\n",
    "    # Normalize images to have a mean of 0 and standard deviation of 1\n",
    "    image = tf.image.per_image_standardization(image)\n",
    "    # Resize images from 32x32 to 277x277\n",
    "    image = tf.image.resize(image, (227,227))\n",
    "    return image, label"
   ]
  },
  {
   "cell_type": "code",
   "execution_count": 26,
   "metadata": {},
   "outputs": [
    {
     "name": "stdout",
     "output_type": "stream",
     "text": [
      "Training data size: 1163\n",
      "Test data size: 1264\n",
      "Validation data size: 100\n"
     ]
    }
   ],
   "source": [
    "train_ds_size = tf.data.experimental.cardinality(train_ds).numpy()\n",
    "train_all_ds_size = tf.data.experimental.cardinality(train_all_ds).numpy()\n",
    "test_ds_size = tf.data.experimental.cardinality(test_ds).numpy()\n",
    "validation_ds_size = tf.data.experimental.cardinality(validation_ds).numpy()\n",
    "print(\"Training data size:\", train_ds_size)\n",
    "print(\"Test data size:\", test_ds_size)\n",
    "print(\"Validation data size:\", validation_ds_size)"
   ]
  },
  {
   "cell_type": "code",
   "execution_count": 27,
   "metadata": {},
   "outputs": [],
   "source": [
    "train_ds = (train_ds\n",
    "                  .map(process_images)\n",
    "                  .shuffle(buffer_size=train_ds_size)\n",
    "                  .batch(batch_size=32))\n",
    "train_all_ds = (train_all_ds\n",
    "                  .map(process_images)\n",
    "                  .shuffle(buffer_size=train_all_ds_size)\n",
    "                  .batch(batch_size=32))\n",
    "test_ds = (test_ds\n",
    "                  .map(process_images)\n",
    "                  .batch(batch_size=32))\n",
    "validation_ds = (validation_ds\n",
    "                  .map(process_images)\n",
    "                  .shuffle(buffer_size=train_ds_size)\n",
    "                  .batch(batch_size=32))"
   ]
  },
  {
   "cell_type": "code",
   "execution_count": 28,
   "metadata": {},
   "outputs": [],
   "source": [
    "model = keras.models.Sequential([\n",
    "    keras.layers.Conv2D(filters=96, kernel_size=(11,11), strides=(4,4), activation='relu', input_shape=(227,227,3)),\n",
    "    keras.layers.BatchNormalization(),\n",
    "    keras.layers.MaxPool2D(pool_size=(3,3), strides=(2,2)),\n",
    "    keras.layers.Conv2D(filters=256, kernel_size=(5,5), strides=(1,1), activation='relu', padding=\"same\"),\n",
    "    keras.layers.BatchNormalization(),\n",
    "    keras.layers.MaxPool2D(pool_size=(3,3), strides=(2,2)),\n",
    "    keras.layers.Conv2D(filters=384, kernel_size=(3,3), strides=(1,1), activation='relu', padding=\"same\"),\n",
    "    keras.layers.BatchNormalization(),\n",
    "    keras.layers.Conv2D(filters=384, kernel_size=(1,1), strides=(1,1), activation='relu', padding=\"same\"),\n",
    "    keras.layers.BatchNormalization(),\n",
    "    keras.layers.Conv2D(filters=256, kernel_size=(1,1), strides=(1,1), activation='relu', padding=\"same\"),\n",
    "    keras.layers.BatchNormalization(),\n",
    "    keras.layers.MaxPool2D(pool_size=(3,3), strides=(2,2)),\n",
    "    keras.layers.Flatten(),\n",
    "    keras.layers.Dense(4096, activation='relu'),\n",
    "    keras.layers.Dropout(0.5),\n",
    "    keras.layers.Dense(4096, activation='relu'),\n",
    "    keras.layers.Dropout(0.5),\n",
    "    keras.layers.Dense(6, activation='softmax')\n",
    "])"
   ]
  },
  {
   "cell_type": "code",
   "execution_count": 29,
   "metadata": {},
   "outputs": [
    {
     "name": "stdout",
     "output_type": "stream",
     "text": [
      "Model: \"sequential_1\"\n",
      "_________________________________________________________________\n",
      "Layer (type)                 Output Shape              Param #   \n",
      "=================================================================\n",
      "conv2d_5 (Conv2D)            (None, 55, 55, 96)        34944     \n",
      "_________________________________________________________________\n",
      "batch_normalization_5 (Batch (None, 55, 55, 96)        384       \n",
      "_________________________________________________________________\n",
      "max_pooling2d_3 (MaxPooling2 (None, 27, 27, 96)        0         \n",
      "_________________________________________________________________\n",
      "conv2d_6 (Conv2D)            (None, 27, 27, 256)       614656    \n",
      "_________________________________________________________________\n",
      "batch_normalization_6 (Batch (None, 27, 27, 256)       1024      \n",
      "_________________________________________________________________\n",
      "max_pooling2d_4 (MaxPooling2 (None, 13, 13, 256)       0         \n",
      "_________________________________________________________________\n",
      "conv2d_7 (Conv2D)            (None, 13, 13, 384)       885120    \n",
      "_________________________________________________________________\n",
      "batch_normalization_7 (Batch (None, 13, 13, 384)       1536      \n",
      "_________________________________________________________________\n",
      "conv2d_8 (Conv2D)            (None, 13, 13, 384)       147840    \n",
      "_________________________________________________________________\n",
      "batch_normalization_8 (Batch (None, 13, 13, 384)       1536      \n",
      "_________________________________________________________________\n",
      "conv2d_9 (Conv2D)            (None, 13, 13, 256)       98560     \n",
      "_________________________________________________________________\n",
      "batch_normalization_9 (Batch (None, 13, 13, 256)       1024      \n",
      "_________________________________________________________________\n",
      "max_pooling2d_5 (MaxPooling2 (None, 6, 6, 256)         0         \n",
      "_________________________________________________________________\n",
      "flatten_1 (Flatten)          (None, 9216)              0         \n",
      "_________________________________________________________________\n",
      "dense_3 (Dense)              (None, 4096)              37752832  \n",
      "_________________________________________________________________\n",
      "dropout_2 (Dropout)          (None, 4096)              0         \n",
      "_________________________________________________________________\n",
      "dense_4 (Dense)              (None, 4096)              16781312  \n",
      "_________________________________________________________________\n",
      "dropout_3 (Dropout)          (None, 4096)              0         \n",
      "_________________________________________________________________\n",
      "dense_5 (Dense)              (None, 6)                 24582     \n",
      "=================================================================\n",
      "Total params: 56,345,350\n",
      "Trainable params: 56,342,598\n",
      "Non-trainable params: 2,752\n",
      "_________________________________________________________________\n"
     ]
    }
   ],
   "source": [
    "model.compile(loss='sparse_categorical_crossentropy', optimizer=tf.optimizers.SGD(lr=0.001), metrics=['accuracy'])\n",
    "model.summary()"
   ]
  },
  {
   "cell_type": "code",
   "execution_count": 30,
   "metadata": {},
   "outputs": [],
   "source": [
    "root_logdir = os.path.join(os.curdir, \"logs\\\\fit\\\\\")\n",
    "def get_run_logdir():\n",
    "    run_id = time.strftime(\"run_%Y_%m_%d-%H_%M_%S\")\n",
    "    return os.path.join(root_logdir, run_id)\n",
    "run_logdir = get_run_logdir()\n",
    "tensorboard_cb = keras.callbacks.TensorBoard(run_logdir)\n",
    "# earlystop = EarlyStopping(monitor= 'val_loss', min_delta=0.001, patience=5, verbose=1)\n",
    "# callbacks = earlystop"
   ]
  },
  {
   "cell_type": "code",
   "execution_count": 31,
   "metadata": {
    "scrolled": true
   },
   "outputs": [
    {
     "name": "stdout",
     "output_type": "stream",
     "text": [
      "Epoch 1/20\n",
      "73/73 [==============================] - 62s 791ms/step - loss: 3.4009 - accuracy: 0.2400 - val_loss: 1.9565 - val_accuracy: 0.3100\n",
      "Epoch 2/20\n",
      "73/73 [==============================] - 64s 829ms/step - loss: 2.1247 - accuracy: 0.3869 - val_loss: 1.5166 - val_accuracy: 0.3800\n",
      "Epoch 3/20\n",
      "73/73 [==============================] - 65s 838ms/step - loss: 1.7165 - accuracy: 0.4592 - val_loss: 0.9974 - val_accuracy: 0.6400\n",
      "Epoch 4/20\n",
      "73/73 [==============================] - 66s 837ms/step - loss: 1.4628 - accuracy: 0.5060 - val_loss: 0.9166 - val_accuracy: 0.6400\n",
      "Epoch 5/20\n",
      "73/73 [==============================] - 66s 842ms/step - loss: 1.2618 - accuracy: 0.5542 - val_loss: 0.8729 - val_accuracy: 0.6700\n",
      "Epoch 6/20\n",
      "73/73 [==============================] - 66s 843ms/step - loss: 1.1474 - accuracy: 0.5816 - val_loss: 0.8713 - val_accuracy: 0.6900\n",
      "Epoch 7/20\n",
      "73/73 [==============================] - 66s 851ms/step - loss: 1.0286 - accuracy: 0.6205 - val_loss: 0.9111 - val_accuracy: 0.6700\n",
      "Epoch 8/20\n",
      "73/73 [==============================] - 66s 839ms/step - loss: 0.8920 - accuracy: 0.6738 - val_loss: 0.9080 - val_accuracy: 0.6500\n",
      "Epoch 9/20\n",
      "73/73 [==============================] - 66s 843ms/step - loss: 0.8549 - accuracy: 0.6870 - val_loss: 0.8211 - val_accuracy: 0.6700\n",
      "Epoch 10/20\n",
      "73/73 [==============================] - 71s 922ms/step - loss: 0.7541 - accuracy: 0.7266 - val_loss: 0.8454 - val_accuracy: 0.6800\n",
      "Epoch 11/20\n",
      "73/73 [==============================] - 65s 837ms/step - loss: 0.7062 - accuracy: 0.7312 - val_loss: 0.8730 - val_accuracy: 0.6900\n",
      "Epoch 12/20\n",
      "73/73 [==============================] - 90s 1s/step - loss: 0.6175 - accuracy: 0.7667 - val_loss: 0.8755 - val_accuracy: 0.6800\n",
      "Epoch 13/20\n",
      "73/73 [==============================] - 200s 3s/step - loss: 0.5376 - accuracy: 0.8019 - val_loss: 0.8877 - val_accuracy: 0.6900\n",
      "Epoch 14/20\n",
      "73/73 [==============================] - 134s 2s/step - loss: 0.5470 - accuracy: 0.8035 - val_loss: 0.8939 - val_accuracy: 0.6600\n",
      "Epoch 15/20\n",
      "73/73 [==============================] - 84s 1s/step - loss: 0.4527 - accuracy: 0.8425 - val_loss: 0.8106 - val_accuracy: 0.6700\n",
      "Epoch 16/20\n",
      "73/73 [==============================] - 79s 1s/step - loss: 0.4057 - accuracy: 0.8552 - val_loss: 0.8132 - val_accuracy: 0.6800\n",
      "Epoch 17/20\n",
      "73/73 [==============================] - 80s 1s/step - loss: 0.3897 - accuracy: 0.8702 - val_loss: 0.8047 - val_accuracy: 0.7200\n",
      "Epoch 18/20\n",
      "73/73 [==============================] - 77s 991ms/step - loss: 0.3523 - accuracy: 0.8778 - val_loss: 0.8578 - val_accuracy: 0.6900\n",
      "Epoch 19/20\n",
      "73/73 [==============================] - 77s 981ms/step - loss: 0.3502 - accuracy: 0.8749 - val_loss: 0.8077 - val_accuracy: 0.7100\n",
      "Epoch 20/20\n",
      "73/73 [==============================] - 77s 983ms/step - loss: 0.3486 - accuracy: 0.8796 - val_loss: 0.7526 - val_accuracy: 0.7100\n"
     ]
    },
    {
     "data": {
      "text/plain": [
       "<tensorflow.python.keras.callbacks.History at 0x7f7e81c1efd0>"
      ]
     },
     "execution_count": 31,
     "metadata": {},
     "output_type": "execute_result"
    }
   ],
   "source": [
    "model.fit(train_all_ds,\n",
    "          epochs=20,\n",
    "          validation_data=validation_ds,\n",
    "          validation_freq=1,\n",
    "          callbacks=[tensorboard_cb])"
   ]
  },
  {
   "cell_type": "code",
   "execution_count": 32,
   "metadata": {},
   "outputs": [],
   "source": [
    "prediction = model.predict(test_ds)"
   ]
  },
  {
   "cell_type": "code",
   "execution_count": 33,
   "metadata": {},
   "outputs": [],
   "source": [
    "yPred = np.argmax(prediction, axis=-1)"
   ]
  },
  {
   "cell_type": "code",
   "execution_count": 34,
   "metadata": {},
   "outputs": [
    {
     "name": "stdout",
     "output_type": "stream",
     "text": [
      "4/4 [==============================] - 1s 154ms/step - loss: 0.7526 - accuracy: 0.7100\n"
     ]
    },
    {
     "data": {
      "text/plain": [
       "[0.7526460886001587, 0.7099999785423279]"
      ]
     },
     "execution_count": 34,
     "metadata": {},
     "output_type": "execute_result"
    }
   ],
   "source": [
    "model.evaluate(validation_ds)"
   ]
  },
  {
   "cell_type": "code",
   "execution_count": 35,
   "metadata": {},
   "outputs": [],
   "source": [
    "pred_df = pd.read_csv(\"/Users/chris/Documents/GitHub/Stat440-module3/ChrisL/example.csv\")"
   ]
  },
  {
   "cell_type": "code",
   "execution_count": 36,
   "metadata": {},
   "outputs": [],
   "source": [
    "pred_df['Prediction'] = yPred\n",
    "pred_df['Prediction'] = pred_df['Prediction'] + 1"
   ]
  },
  {
   "cell_type": "code",
   "execution_count": 37,
   "metadata": {},
   "outputs": [],
   "source": [
    "pred_df.to_csv(\"/Users/chris/Documents/GitHub/Stat440-module3/ChrisL/prediction.csv\",index=False)"
   ]
  },
  {
   "cell_type": "code",
   "execution_count": null,
   "metadata": {},
   "outputs": [],
   "source": []
  }
 ],
 "metadata": {
  "kernelspec": {
   "display_name": "Python 3",
   "language": "python",
   "name": "python3"
  },
  "language_info": {
   "codemirror_mode": {
    "name": "ipython",
    "version": 3
   },
   "file_extension": ".py",
   "mimetype": "text/x-python",
   "name": "python",
   "nbconvert_exporter": "python",
   "pygments_lexer": "ipython3",
   "version": "3.7.3"
  }
 },
 "nbformat": 4,
 "nbformat_minor": 2
}
