{
 "cells": [
  {
   "cell_type": "markdown",
   "metadata": {},
   "source": [
    "Code From: https://towardsdatascience.com/implementing-alexnet-cnn-architecture-using-tensorflow-2-0-and-keras-2113e090ad98"
   ]
  },
  {
   "cell_type": "code",
   "execution_count": 1,
   "metadata": {},
   "outputs": [],
   "source": [
    "import tensorflow as tf\n",
    "from tensorflow import keras\n",
    "import matplotlib.pyplot as plt\n",
    "import os\n",
    "import time\n",
    "import pickle\n",
    "from PIL import Image\n",
    "import numpy as np\n",
    "import glob\n",
    "import pandas as pd\n",
    "from tensorflow.keras.callbacks import EarlyStopping"
   ]
  },
  {
   "cell_type": "code",
   "execution_count": 2,
   "metadata": {},
   "outputs": [],
   "source": [
    "train_images = pickle.load(open(\"/Users/chris/Documents/GitHub/Stat440-module3/ChrisL/train_images.pickle\",\"rb\"))\n",
    "train_labels = pickle.load(open(\"/Users/chris/Documents/GitHub/Stat440-module3/ChrisL/train_labels.pickle\",\"rb\"))\n",
    "validation_images = pickle.load(open(\"/Users/chris/Documents/GitHub/Stat440-module3/ChrisL/validation_images.pickle\",\"rb\"))\n",
    "validation_labels = pickle.load(open(\"/Users/chris/Documents/GitHub/Stat440-module3/ChrisL/validation_labels.pickle\",\"rb\"))\n",
    "test_images = pickle.load(open(\"/Users/chris/Documents/GitHub/Stat440-module3/ChrisL/test_images.pickle\",\"rb\"))"
   ]
  },
  {
   "cell_type": "code",
   "execution_count": 3,
   "metadata": {},
   "outputs": [],
   "source": [
    "train_labels = train_labels - 1\n",
    "validation_labels = validation_labels - 1\n",
    "test_labels = np.zeros(len(test_images),dtype = \"uint8\").reshape(-1,1)"
   ]
  },
  {
   "cell_type": "code",
   "execution_count": 4,
   "metadata": {},
   "outputs": [],
   "source": [
    "train_ds = tf.data.Dataset.from_tensor_slices((train_images, train_labels))\n",
    "test_ds = tf.data.Dataset.from_tensor_slices((test_images, test_labels))\n",
    "validation_ds = tf.data.Dataset.from_tensor_slices((validation_images, validation_labels))"
   ]
  },
  {
   "cell_type": "code",
   "execution_count": 5,
   "metadata": {},
   "outputs": [],
   "source": [
    "def process_images(image, label):\n",
    "    # Normalize images to have a mean of 0 and standard deviation of 1\n",
    "    image = tf.image.per_image_standardization(image)\n",
    "    # Resize images from 32x32 to 277x277\n",
    "    image = tf.image.resize(image, (227,227))\n",
    "    return image, label"
   ]
  },
  {
   "cell_type": "code",
   "execution_count": 6,
   "metadata": {},
   "outputs": [
    {
     "name": "stdout",
     "output_type": "stream",
     "text": [
      "Training data size: 1163\n",
      "Test data size: 1264\n",
      "Validation data size: 100\n"
     ]
    }
   ],
   "source": [
    "train_ds_size = tf.data.experimental.cardinality(train_ds).numpy()\n",
    "test_ds_size = tf.data.experimental.cardinality(test_ds).numpy()\n",
    "validation_ds_size = tf.data.experimental.cardinality(validation_ds).numpy()\n",
    "print(\"Training data size:\", train_ds_size)\n",
    "print(\"Test data size:\", test_ds_size)\n",
    "print(\"Validation data size:\", validation_ds_size)"
   ]
  },
  {
   "cell_type": "code",
   "execution_count": 7,
   "metadata": {},
   "outputs": [],
   "source": [
    "train_ds = (train_ds\n",
    "                  .map(process_images)\n",
    "                  .shuffle(buffer_size=train_ds_size)\n",
    "                  .batch(batch_size=16))\n",
    "test_ds = (test_ds\n",
    "                  .map(process_images)\n",
    "                  .batch(batch_size=16))\n",
    "validation_ds = (validation_ds\n",
    "                  .map(process_images)\n",
    "                  .shuffle(buffer_size=train_ds_size)\n",
    "                  .batch(batch_size=16))"
   ]
  },
  {
   "cell_type": "code",
   "execution_count": 8,
   "metadata": {},
   "outputs": [],
   "source": [
    "model = keras.models.Sequential([\n",
    "    keras.layers.Conv2D(filters=96, kernel_size=(11,11), strides=(4,4), activation='relu', input_shape=(227,227,3)),\n",
    "    keras.layers.BatchNormalization(),\n",
    "    keras.layers.MaxPool2D(pool_size=(3,3), strides=(2,2)),\n",
    "    keras.layers.Conv2D(filters=256, kernel_size=(5,5), strides=(1,1), activation='relu', padding=\"same\"),\n",
    "    keras.layers.BatchNormalization(),\n",
    "    keras.layers.MaxPool2D(pool_size=(3,3), strides=(2,2)),\n",
    "    keras.layers.Conv2D(filters=384, kernel_size=(3,3), strides=(1,1), activation='relu', padding=\"same\"),\n",
    "    keras.layers.BatchNormalization(),\n",
    "    keras.layers.Conv2D(filters=384, kernel_size=(1,1), strides=(1,1), activation='relu', padding=\"same\"),\n",
    "    keras.layers.BatchNormalization(),\n",
    "    keras.layers.Conv2D(filters=256, kernel_size=(1,1), strides=(1,1), activation='relu', padding=\"same\"),\n",
    "    keras.layers.BatchNormalization(),\n",
    "    keras.layers.MaxPool2D(pool_size=(3,3), strides=(2,2)),\n",
    "    keras.layers.Flatten(),\n",
    "    keras.layers.Dense(4096, activation='relu'),\n",
    "    keras.layers.Dropout(0.5),\n",
    "    keras.layers.Dense(4096, activation='relu'),\n",
    "    keras.layers.Dropout(0.5),\n",
    "    keras.layers.Dense(6, activation='softmax')\n",
    "])"
   ]
  },
  {
   "cell_type": "code",
   "execution_count": 9,
   "metadata": {},
   "outputs": [
    {
     "name": "stdout",
     "output_type": "stream",
     "text": [
      "Model: \"sequential\"\n",
      "_________________________________________________________________\n",
      "Layer (type)                 Output Shape              Param #   \n",
      "=================================================================\n",
      "conv2d (Conv2D)              (None, 55, 55, 96)        34944     \n",
      "_________________________________________________________________\n",
      "batch_normalization (BatchNo (None, 55, 55, 96)        384       \n",
      "_________________________________________________________________\n",
      "max_pooling2d (MaxPooling2D) (None, 27, 27, 96)        0         \n",
      "_________________________________________________________________\n",
      "conv2d_1 (Conv2D)            (None, 27, 27, 256)       614656    \n",
      "_________________________________________________________________\n",
      "batch_normalization_1 (Batch (None, 27, 27, 256)       1024      \n",
      "_________________________________________________________________\n",
      "max_pooling2d_1 (MaxPooling2 (None, 13, 13, 256)       0         \n",
      "_________________________________________________________________\n",
      "conv2d_2 (Conv2D)            (None, 13, 13, 384)       885120    \n",
      "_________________________________________________________________\n",
      "batch_normalization_2 (Batch (None, 13, 13, 384)       1536      \n",
      "_________________________________________________________________\n",
      "conv2d_3 (Conv2D)            (None, 13, 13, 384)       147840    \n",
      "_________________________________________________________________\n",
      "batch_normalization_3 (Batch (None, 13, 13, 384)       1536      \n",
      "_________________________________________________________________\n",
      "conv2d_4 (Conv2D)            (None, 13, 13, 256)       98560     \n",
      "_________________________________________________________________\n",
      "batch_normalization_4 (Batch (None, 13, 13, 256)       1024      \n",
      "_________________________________________________________________\n",
      "max_pooling2d_2 (MaxPooling2 (None, 6, 6, 256)         0         \n",
      "_________________________________________________________________\n",
      "flatten (Flatten)            (None, 9216)              0         \n",
      "_________________________________________________________________\n",
      "dense (Dense)                (None, 4096)              37752832  \n",
      "_________________________________________________________________\n",
      "dropout (Dropout)            (None, 4096)              0         \n",
      "_________________________________________________________________\n",
      "dense_1 (Dense)              (None, 4096)              16781312  \n",
      "_________________________________________________________________\n",
      "dropout_1 (Dropout)          (None, 4096)              0         \n",
      "_________________________________________________________________\n",
      "dense_2 (Dense)              (None, 6)                 24582     \n",
      "=================================================================\n",
      "Total params: 56,345,350\n",
      "Trainable params: 56,342,598\n",
      "Non-trainable params: 2,752\n",
      "_________________________________________________________________\n"
     ]
    }
   ],
   "source": [
    "model.compile(loss='sparse_categorical_crossentropy', optimizer=tf.optimizers.SGD(lr=0.001), metrics=['accuracy'])\n",
    "model.summary()"
   ]
  },
  {
   "cell_type": "code",
   "execution_count": 10,
   "metadata": {},
   "outputs": [],
   "source": [
    "root_logdir = os.path.join(os.curdir, \"logs\\\\fit\\\\\")\n",
    "def get_run_logdir():\n",
    "    run_id = time.strftime(\"run_%Y_%m_%d-%H_%M_%S\")\n",
    "    return os.path.join(root_logdir, run_id)\n",
    "run_logdir = get_run_logdir()\n",
    "tensorboard_cb = keras.callbacks.TensorBoard(run_logdir)\n",
    "# earlystop = EarlyStopping(monitor= 'val_loss', min_delta=0.001, patience=5, verbose=1)\n",
    "# callbacks = earlystop"
   ]
  },
  {
   "cell_type": "code",
   "execution_count": 11,
   "metadata": {
    "scrolled": false
   },
   "outputs": [
    {
     "name": "stdout",
     "output_type": "stream",
     "text": [
      "Epoch 1/50\n",
      "73/73 [==============================] - 44s 564ms/step - loss: 3.5930 - accuracy: 0.2206 - val_loss: 1.5498 - val_accuracy: 0.4200\n",
      "Epoch 2/50\n",
      "73/73 [==============================] - 42s 546ms/step - loss: 2.3492 - accuracy: 0.3347 - val_loss: 1.6889 - val_accuracy: 0.3500\n",
      "Epoch 3/50\n",
      "73/73 [==============================] - 45s 587ms/step - loss: 1.7102 - accuracy: 0.4669 - val_loss: 1.0852 - val_accuracy: 0.6200\n",
      "Epoch 4/50\n",
      "73/73 [==============================] - 49s 635ms/step - loss: 1.6196 - accuracy: 0.4844 - val_loss: 1.0202 - val_accuracy: 0.5900\n",
      "Epoch 5/50\n",
      "73/73 [==============================] - 50s 652ms/step - loss: 1.3942 - accuracy: 0.5411 - val_loss: 0.9846 - val_accuracy: 0.6500\n",
      "Epoch 6/50\n",
      "73/73 [==============================] - 46s 597ms/step - loss: 1.1902 - accuracy: 0.5658 - val_loss: 0.9993 - val_accuracy: 0.5900\n",
      "Epoch 7/50\n",
      "73/73 [==============================] - 42s 542ms/step - loss: 1.0692 - accuracy: 0.6053 - val_loss: 0.9754 - val_accuracy: 0.6400\n",
      "Epoch 8/50\n",
      "73/73 [==============================] - 45s 585ms/step - loss: 1.0447 - accuracy: 0.6265 - val_loss: 0.9669 - val_accuracy: 0.6200\n",
      "Epoch 9/50\n",
      "73/73 [==============================] - 53s 681ms/step - loss: 0.8632 - accuracy: 0.6954 - val_loss: 0.8905 - val_accuracy: 0.6500\n",
      "Epoch 10/50\n",
      "73/73 [==============================] - 53s 682ms/step - loss: 0.8240 - accuracy: 0.6964 - val_loss: 0.9429 - val_accuracy: 0.6400\n",
      "Epoch 11/50\n",
      "73/73 [==============================] - 55s 718ms/step - loss: 0.7757 - accuracy: 0.7078 - val_loss: 0.9518 - val_accuracy: 0.6500\n",
      "Epoch 12/50\n",
      "73/73 [==============================] - 51s 656ms/step - loss: 0.7189 - accuracy: 0.7342 - val_loss: 0.8684 - val_accuracy: 0.6900\n",
      "Epoch 13/50\n",
      "73/73 [==============================] - 50s 653ms/step - loss: 0.5923 - accuracy: 0.7928 - val_loss: 0.8248 - val_accuracy: 0.6900\n",
      "Epoch 14/50\n",
      "73/73 [==============================] - 53s 681ms/step - loss: 0.6792 - accuracy: 0.7571 - val_loss: 0.8228 - val_accuracy: 0.6400\n",
      "Epoch 15/50\n",
      "73/73 [==============================] - 50s 641ms/step - loss: 0.5589 - accuracy: 0.7971 - val_loss: 0.9023 - val_accuracy: 0.6500\n",
      "Epoch 16/50\n",
      "73/73 [==============================] - 47s 610ms/step - loss: 0.5122 - accuracy: 0.8260 - val_loss: 0.8529 - val_accuracy: 0.6800\n",
      "Epoch 17/50\n",
      "73/73 [==============================] - 48s 619ms/step - loss: 0.4757 - accuracy: 0.8225 - val_loss: 0.8102 - val_accuracy: 0.6700\n",
      "Epoch 18/50\n",
      "73/73 [==============================] - 44s 571ms/step - loss: 0.3764 - accuracy: 0.8603 - val_loss: 0.8406 - val_accuracy: 0.6900\n",
      "Epoch 19/50\n",
      "73/73 [==============================] - 45s 588ms/step - loss: 0.4099 - accuracy: 0.8506 - val_loss: 0.8456 - val_accuracy: 0.7000\n",
      "Epoch 20/50\n",
      "73/73 [==============================] - 46s 593ms/step - loss: 0.3315 - accuracy: 0.8850 - val_loss: 0.8619 - val_accuracy: 0.6800\n",
      "Epoch 21/50\n",
      "73/73 [==============================] - 46s 591ms/step - loss: 0.3254 - accuracy: 0.8855 - val_loss: 0.8364 - val_accuracy: 0.6900\n",
      "Epoch 22/50\n",
      "73/73 [==============================] - 47s 607ms/step - loss: 0.3152 - accuracy: 0.9077 - val_loss: 0.8216 - val_accuracy: 0.6800\n",
      "Epoch 23/50\n",
      "73/73 [==============================] - 46s 596ms/step - loss: 0.2973 - accuracy: 0.9079 - val_loss: 0.8543 - val_accuracy: 0.6800\n",
      "Epoch 24/50\n",
      "73/73 [==============================] - 46s 602ms/step - loss: 0.2717 - accuracy: 0.9152 - val_loss: 0.8059 - val_accuracy: 0.7100\n",
      "Epoch 25/50\n",
      "73/73 [==============================] - 47s 607ms/step - loss: 0.2363 - accuracy: 0.9317 - val_loss: 0.8717 - val_accuracy: 0.7200\n",
      "Epoch 26/50\n",
      "73/73 [==============================] - 46s 591ms/step - loss: 0.2228 - accuracy: 0.9148 - val_loss: 0.8936 - val_accuracy: 0.6900\n",
      "Epoch 27/50\n",
      "73/73 [==============================] - 46s 598ms/step - loss: 0.1846 - accuracy: 0.9463 - val_loss: 0.8670 - val_accuracy: 0.7000\n",
      "Epoch 28/50\n",
      "73/73 [==============================] - 48s 627ms/step - loss: 0.1817 - accuracy: 0.9478 - val_loss: 0.9223 - val_accuracy: 0.6900\n",
      "Epoch 29/50\n",
      "73/73 [==============================] - 47s 607ms/step - loss: 0.1882 - accuracy: 0.9372 - val_loss: 0.8623 - val_accuracy: 0.6900\n",
      "Epoch 30/50\n",
      "73/73 [==============================] - 45s 588ms/step - loss: 0.1522 - accuracy: 0.9582 - val_loss: 0.8634 - val_accuracy: 0.6900\n",
      "Epoch 31/50\n",
      "73/73 [==============================] - 41s 529ms/step - loss: 0.1424 - accuracy: 0.9657 - val_loss: 0.8774 - val_accuracy: 0.7100\n",
      "Epoch 32/50\n",
      "73/73 [==============================] - 40s 521ms/step - loss: 0.1310 - accuracy: 0.9706 - val_loss: 0.9105 - val_accuracy: 0.7300\n",
      "Epoch 33/50\n",
      "73/73 [==============================] - 41s 524ms/step - loss: 0.1383 - accuracy: 0.9735 - val_loss: 0.8994 - val_accuracy: 0.6900\n",
      "Epoch 34/50\n",
      "73/73 [==============================] - 47s 611ms/step - loss: 0.1285 - accuracy: 0.9579 - val_loss: 0.8577 - val_accuracy: 0.7400\n",
      "Epoch 35/50\n",
      "73/73 [==============================] - 51s 659ms/step - loss: 0.1305 - accuracy: 0.9609 - val_loss: 0.8803 - val_accuracy: 0.7300\n",
      "Epoch 36/50\n",
      "73/73 [==============================] - 51s 653ms/step - loss: 0.1308 - accuracy: 0.9633 - val_loss: 0.9217 - val_accuracy: 0.7200\n",
      "Epoch 37/50\n",
      "73/73 [==============================] - 50s 651ms/step - loss: 0.0994 - accuracy: 0.9729 - val_loss: 0.8847 - val_accuracy: 0.7000\n",
      "Epoch 38/50\n",
      "73/73 [==============================] - 50s 649ms/step - loss: 0.0961 - accuracy: 0.9777 - val_loss: 0.8468 - val_accuracy: 0.7200\n",
      "Epoch 39/50\n",
      "73/73 [==============================] - 50s 641ms/step - loss: 0.0887 - accuracy: 0.9785 - val_loss: 0.9397 - val_accuracy: 0.7100\n",
      "Epoch 40/50\n",
      "73/73 [==============================] - 48s 624ms/step - loss: 0.0959 - accuracy: 0.9761 - val_loss: 0.9647 - val_accuracy: 0.7100\n",
      "Epoch 41/50\n",
      "73/73 [==============================] - 47s 612ms/step - loss: 0.0881 - accuracy: 0.9732 - val_loss: 0.9046 - val_accuracy: 0.7200\n",
      "Epoch 42/50\n",
      "73/73 [==============================] - 50s 640ms/step - loss: 0.0779 - accuracy: 0.9800 - val_loss: 0.9157 - val_accuracy: 0.7000\n",
      "Epoch 43/50\n",
      "73/73 [==============================] - 50s 644ms/step - loss: 0.0788 - accuracy: 0.9816 - val_loss: 0.9340 - val_accuracy: 0.7200\n",
      "Epoch 44/50\n",
      "73/73 [==============================] - 51s 653ms/step - loss: 0.0865 - accuracy: 0.9763 - val_loss: 0.9573 - val_accuracy: 0.7300\n",
      "Epoch 45/50\n",
      "73/73 [==============================] - 50s 642ms/step - loss: 0.0900 - accuracy: 0.9757 - val_loss: 0.9377 - val_accuracy: 0.7300\n",
      "Epoch 46/50\n",
      "73/73 [==============================] - 50s 643ms/step - loss: 0.0492 - accuracy: 0.9909 - val_loss: 0.9672 - val_accuracy: 0.7000\n",
      "Epoch 47/50\n",
      "73/73 [==============================] - 51s 647ms/step - loss: 0.0658 - accuracy: 0.9890 - val_loss: 0.9991 - val_accuracy: 0.6800\n",
      "Epoch 48/50\n",
      "73/73 [==============================] - 50s 648ms/step - loss: 0.0636 - accuracy: 0.9870 - val_loss: 0.9468 - val_accuracy: 0.7100\n",
      "Epoch 49/50\n",
      "73/73 [==============================] - 52s 669ms/step - loss: 0.0664 - accuracy: 0.9860 - val_loss: 0.9990 - val_accuracy: 0.6600\n",
      "Epoch 50/50\n",
      "73/73 [==============================] - 50s 644ms/step - loss: 0.0684 - accuracy: 0.9838 - val_loss: 0.9521 - val_accuracy: 0.7000\n"
     ]
    },
    {
     "data": {
      "text/plain": [
       "<tensorflow.python.keras.callbacks.History at 0x7fc08fbe0128>"
      ]
     },
     "execution_count": 11,
     "metadata": {},
     "output_type": "execute_result"
    }
   ],
   "source": [
    "model.fit(train_ds,\n",
    "          epochs=50,\n",
    "          validation_data=validation_ds,\n",
    "          validation_freq=1,\n",
    "          callbacks=[tensorboard_cb])"
   ]
  },
  {
   "cell_type": "code",
   "execution_count": 12,
   "metadata": {},
   "outputs": [],
   "source": [
    "prediction = model.predict(test_ds)"
   ]
  },
  {
   "cell_type": "code",
   "execution_count": 13,
   "metadata": {},
   "outputs": [],
   "source": [
    "yPred = np.argmax(prediction, axis=-1)"
   ]
  },
  {
   "cell_type": "code",
   "execution_count": 14,
   "metadata": {},
   "outputs": [
    {
     "name": "stdout",
     "output_type": "stream",
     "text": [
      "7/7 [==============================] - 1s 132ms/step - loss: 0.9521 - accuracy: 0.7000\n"
     ]
    },
    {
     "data": {
      "text/plain": [
       "[0.9521136283874512, 0.699999988079071]"
      ]
     },
     "execution_count": 14,
     "metadata": {},
     "output_type": "execute_result"
    }
   ],
   "source": [
    "model.evaluate(validation_ds)"
   ]
  },
  {
   "cell_type": "code",
   "execution_count": 15,
   "metadata": {},
   "outputs": [],
   "source": [
    "pred_df = pd.read_csv(\"/Users/chris/Documents/GitHub/Stat440-module3/ChrisL/example.csv\")"
   ]
  },
  {
   "cell_type": "code",
   "execution_count": 16,
   "metadata": {},
   "outputs": [],
   "source": [
    "pred_df['Prediction'] = yPred\n",
    "pred_df['Prediction'] = pred_df['Prediction'] + 1"
   ]
  },
  {
   "cell_type": "code",
   "execution_count": 17,
   "metadata": {},
   "outputs": [],
   "source": [
    "pred_df.to_csv(\"/Users/chris/Documents/GitHub/Stat440-module3/ChrisL/prediction.csv\",index=False)"
   ]
  },
  {
   "cell_type": "code",
   "execution_count": null,
   "metadata": {},
   "outputs": [],
   "source": []
  }
 ],
 "metadata": {
  "kernelspec": {
   "display_name": "Python 3",
   "language": "python",
   "name": "python3"
  },
  "language_info": {
   "codemirror_mode": {
    "name": "ipython",
    "version": 3
   },
   "file_extension": ".py",
   "mimetype": "text/x-python",
   "name": "python",
   "nbconvert_exporter": "python",
   "pygments_lexer": "ipython3",
   "version": "3.7.3"
  }
 },
 "nbformat": 4,
 "nbformat_minor": 2
}
